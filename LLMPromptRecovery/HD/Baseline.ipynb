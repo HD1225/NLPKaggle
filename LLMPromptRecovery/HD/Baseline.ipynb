{
 "cells": [
  {
   "cell_type": "code",
   "execution_count": 1,
   "id": "5fd3dfe1-a2ca-4ef7-a056-981becbea06a",
   "metadata": {},
   "outputs": [],
   "source": [
    "import os\n",
    "os.environ['CUDA_VISIBLE_DEVICES'] = '0,1,2,3'\n",
    "import torch\n",
    "import torch.nn as nn\n",
    "import time\n",
    "from tqdm import tqdm\n",
    "from transformers import AutoModel, AutoTokenizer\n",
    "from torch.utils.data import DataLoader\n",
    "from torch.nn.parallel import DistributedDataParallel as DDP\n",
    "\n",
    "# check if GPU is available\n",
    "# os.environ['CUDA_VISIBLE_DEVICES'] = '1,2,3'\n",
    "device = torch.device(\"cuda\" if torch.cuda.is_available() else \"cpu\")"
   ]
  },
  {
   "cell_type": "markdown",
   "id": "b79475a4",
   "metadata": {},
   "source": [
    "# Load data"
   ]
  },
  {
   "cell_type": "code",
   "execution_count": 2,
   "id": "60ac8289",
   "metadata": {},
   "outputs": [
    {
     "data": {
      "text/html": [
       "<div>\n",
       "<style scoped>\n",
       "    .dataframe tbody tr th:only-of-type {\n",
       "        vertical-align: middle;\n",
       "    }\n",
       "\n",
       "    .dataframe tbody tr th {\n",
       "        vertical-align: top;\n",
       "    }\n",
       "\n",
       "    .dataframe thead th {\n",
       "        text-align: right;\n",
       "    }\n",
       "</style>\n",
       "<table border=\"1\" class=\"dataframe\">\n",
       "  <thead>\n",
       "    <tr style=\"text-align: right;\">\n",
       "      <th></th>\n",
       "      <th>id</th>\n",
       "      <th>original_text</th>\n",
       "      <th>rewrite_prompt</th>\n",
       "      <th>rewritten_text</th>\n",
       "    </tr>\n",
       "  </thead>\n",
       "  <tbody>\n",
       "    <tr>\n",
       "      <th>0</th>\n",
       "      <td>LNpAovroGe</td>\n",
       "      <td>This quilt, that my mother made, \\n \\n Still m...</td>\n",
       "      <td>Regency Romance: Model the text on a Regency r...</td>\n",
       "      <td>The softest brown and brightest blue quilt, cr...</td>\n",
       "    </tr>\n",
       "    <tr>\n",
       "      <th>1</th>\n",
       "      <td>nnuxwwThWi</td>\n",
       "      <td>It's the job of our agency to keep track of th...</td>\n",
       "      <td>Write like Ernest Hemingway: Focus on Hemingwa...</td>\n",
       "      <td>The agency's responsibility is to track and co...</td>\n",
       "    </tr>\n",
       "    <tr>\n",
       "      <th>2</th>\n",
       "      <td>aYmnFCsjKl</td>\n",
       "      <td>The first punch gets me right in the ribs, kno...</td>\n",
       "      <td>Grimm's Fairy Tales: Adapt the text to mimic t...</td>\n",
       "      <td>In the sweltering sun, the stench of sweat and...</td>\n",
       "    </tr>\n",
       "    <tr>\n",
       "      <th>3</th>\n",
       "      <td>ufIVkreRND</td>\n",
       "      <td>Some nights I lay awake staring at the ceiling...</td>\n",
       "      <td>High Fantasy Epic: Transform the essay into a ...</td>\n",
       "      <td>In the tapestry of the ethereal realm of Eldri...</td>\n",
       "    </tr>\n",
       "    <tr>\n",
       "      <th>4</th>\n",
       "      <td>XwLNuYdDdE</td>\n",
       "      <td>I can hardly read the letter, because the hand...</td>\n",
       "      <td>Fairy Tale Villain: Use the menacing and craft...</td>\n",
       "      <td>My hand quivered as I clutched the letter, the...</td>\n",
       "    </tr>\n",
       "  </tbody>\n",
       "</table>\n",
       "</div>"
      ],
      "text/plain": [
       "           id                                      original_text  \\\n",
       "0  LNpAovroGe  This quilt, that my mother made, \\n \\n Still m...   \n",
       "1  nnuxwwThWi  It's the job of our agency to keep track of th...   \n",
       "2  aYmnFCsjKl  The first punch gets me right in the ribs, kno...   \n",
       "3  ufIVkreRND  Some nights I lay awake staring at the ceiling...   \n",
       "4  XwLNuYdDdE  I can hardly read the letter, because the hand...   \n",
       "\n",
       "                                      rewrite_prompt  \\\n",
       "0  Regency Romance: Model the text on a Regency r...   \n",
       "1  Write like Ernest Hemingway: Focus on Hemingwa...   \n",
       "2  Grimm's Fairy Tales: Adapt the text to mimic t...   \n",
       "3  High Fantasy Epic: Transform the essay into a ...   \n",
       "4  Fairy Tale Villain: Use the menacing and craft...   \n",
       "\n",
       "                                      rewritten_text  \n",
       "0  The softest brown and brightest blue quilt, cr...  \n",
       "1  The agency's responsibility is to track and co...  \n",
       "2  In the sweltering sun, the stench of sweat and...  \n",
       "3  In the tapestry of the ethereal realm of Eldri...  \n",
       "4  My hand quivered as I clutched the letter, the...  "
      ]
     },
     "execution_count": 2,
     "metadata": {},
     "output_type": "execute_result"
    }
   ],
   "source": [
    "import pandas as pd\n",
    "\n",
    "# file path\n",
    "path = './nbroad-v1.csv'\n",
    "# read file\n",
    "df = pd.read_csv(path)\n",
    "df.head()"
   ]
  },
  {
   "cell_type": "code",
   "execution_count": 3,
   "id": "fd39de80",
   "metadata": {},
   "outputs": [],
   "source": [
    "original_text = list(df['original_text'])\n",
    "rewritten_text = list(df['rewritten_text'])\n",
    "rewrite_prompt = list(df['rewrite_prompt'])"
   ]
  },
  {
   "cell_type": "code",
   "execution_count": 4,
   "id": "819d22e6",
   "metadata": {},
   "outputs": [
    {
     "data": {
      "text/plain": [
       "\"This quilt, that my mother made, \\n \\n Still makes me think to this day. \\n \\n It's softest brown, and brightest blue, \\n \\n The curved stitch here, reads `` made it May''. \\n \\n It's hard to see, but believe me it's true, \\n \\n That's not just a cloth but a piece of shirt. \\n \\n You can see a logo here, and right there, \\n \\n And a signature over there, someone named `` Bert''. \\n \\n This is my favorite part, a piece from a stuffed bear. \\n \\n I think it was my mother's favorite too, \\n \\n She always said so at least. \\n \\n Something from when she was two, \\n \\n Given by her grandad for Thanksgiving feast. \\n \\n My dad added this, a little button pin, \\n \\n Something from his mother, for being a scout. \\n \\n Apparently she went to a store and fished in a bin, \\n \\n Until night that day, to teach him what love was about. \\n \\n I'm sorry you had to see this, \\n \\n but their funeral was delayed. \\n \\n \\n \\n\\n\""
      ]
     },
     "execution_count": 4,
     "metadata": {},
     "output_type": "execute_result"
    }
   ],
   "source": [
    "# test\n",
    "original_text[0]\n",
    "# rewritten_text[0]\n",
    "# rewrite_prompt[0]"
   ]
  },
  {
   "cell_type": "markdown",
   "id": "ecc2437d",
   "metadata": {},
   "source": [
    "# Load model and tokenizer"
   ]
  },
  {
   "cell_type": "code",
   "execution_count": 5,
   "id": "c95bcdbd",
   "metadata": {},
   "outputs": [
    {
     "data": {
      "application/vnd.jupyter.widget-view+json": {
       "model_id": "0d4de229579f4711b0e2f49941e0410e",
       "version_major": 2,
       "version_minor": 0
      },
      "text/plain": [
       "Loading checkpoint shards:   0%|          | 0/8 [00:00<?, ?it/s]"
      ]
     },
     "metadata": {},
     "output_type": "display_data"
    }
   ],
   "source": [
    "model = nn.DataParallel(AutoModel.from_pretrained(\"HuggingFaceH4/zephyr-7b-alpha\")).cuda()"
   ]
  },
  {
   "cell_type": "code",
   "execution_count": 6,
   "id": "52b25c14",
   "metadata": {},
   "outputs": [],
   "source": [
    "tokenizer = AutoTokenizer.from_pretrained(\"HuggingFaceH4/zephyr-7b-alpha\")"
   ]
  },
  {
   "cell_type": "markdown",
   "id": "abc9d815",
   "metadata": {},
   "source": [
    "# Generate embeddings"
   ]
  },
  {
   "cell_type": "code",
   "execution_count": 7,
   "id": "44c21fba",
   "metadata": {},
   "outputs": [],
   "source": [
    "def get_embeddings(sentences, model, tokenizer, batch_size=64, max_length=128):\n",
    "    list_embeddings = []\n",
    "    loader = DataLoader(sentences, batch_size=batch_size)  \n",
    "    for batch in tqdm(loader):\n",
    "        inputs = tokenizer(batch, return_tensors=\"pt\", padding=True, truncation=True, max_length=max_length).to(device)\n",
    "    #     inputs = inputs.to(device)\n",
    "        with torch.no_grad():\n",
    "            outputs = model(**inputs)\n",
    "        embeddings = outputs.last_hidden_state.mean(dim=1)\n",
    "        list_embeddings.append(embeddings.cpu())\n",
    "    return torch.cat(list_embeddings, dim=0)"
   ]
  },
  {
   "cell_type": "code",
   "execution_count": 8,
   "id": "dee816ae",
   "metadata": {},
   "outputs": [
    {
     "name": "stderr",
     "output_type": "stream",
     "text": [
      "100%|███████████████████████████████████████████| 68/68 [01:38<00:00,  1.45s/it]\n"
     ]
    }
   ],
   "source": [
    "original_text_embeddings = get_embeddings(original_text, model, tokenizer, batch_size=32)"
   ]
  },
  {
   "cell_type": "code",
   "execution_count": 9,
   "id": "eb06b4fd",
   "metadata": {},
   "outputs": [
    {
     "data": {
      "text/plain": [
       "tensor([[-0.2382,  0.6332, -0.1373,  ..., -0.7363,  0.5256,  1.0120],\n",
       "        [ 0.0135,  2.1396,  0.4942,  ..., -0.9785, -2.5845, -2.2923],\n",
       "        [ 0.4211,  0.9206, -1.2589,  ...,  0.6981, -1.6439,  2.0091],\n",
       "        [ 2.1255, -0.5315,  1.8407,  ...,  2.6630, -0.4077,  1.7946],\n",
       "        [ 0.1307,  0.1351, -1.2011,  ..., -0.1316, -0.0703,  0.9054]])"
      ]
     },
     "execution_count": 9,
     "metadata": {},
     "output_type": "execute_result"
    }
   ],
   "source": [
    "original_text_embeddings[0:5]"
   ]
  },
  {
   "cell_type": "code",
   "execution_count": 10,
   "id": "52c342ad",
   "metadata": {},
   "outputs": [],
   "source": [
    "torch.save(original_text_embeddings, 'original_text_embeddings.pt')"
   ]
  },
  {
   "cell_type": "code",
   "execution_count": 11,
   "id": "1b8ab058",
   "metadata": {},
   "outputs": [
    {
     "name": "stderr",
     "output_type": "stream",
     "text": [
      "100%|███████████████████████████████████████████| 68/68 [01:35<00:00,  1.40s/it]\n"
     ]
    }
   ],
   "source": [
    "rewritten_text_embeddings = get_embeddings(rewritten_text, model, tokenizer, batch_size=32)"
   ]
  },
  {
   "cell_type": "code",
   "execution_count": 12,
   "id": "74582e06",
   "metadata": {},
   "outputs": [
    {
     "data": {
      "text/plain": [
       "tensor([[ 1.0559,  1.5876,  1.2212,  ...,  0.0045,  0.5332, -1.1193],\n",
       "        [ 2.2752,  0.8676,  2.2214,  ...,  1.5496,  0.2140, -1.3494],\n",
       "        [-0.0169,  2.1337,  2.4846,  ...,  0.6680,  2.0917, -1.8365],\n",
       "        [ 1.6355,  0.1889,  4.1800,  ...,  0.4820, -0.5707, -1.1147],\n",
       "        [ 0.1879,  1.4658,  2.3471,  ...,  2.6584,  0.0825, -2.3326]])"
      ]
     },
     "execution_count": 12,
     "metadata": {},
     "output_type": "execute_result"
    }
   ],
   "source": [
    "rewritten_text_embeddings[0:5]"
   ]
  },
  {
   "cell_type": "code",
   "execution_count": 13,
   "id": "31a0a1fc",
   "metadata": {},
   "outputs": [],
   "source": [
    "torch.save(rewritten_text_embeddings, 'rewritten_text_embeddings.pt')"
   ]
  },
  {
   "cell_type": "code",
   "execution_count": 14,
   "id": "7996587f",
   "metadata": {},
   "outputs": [
    {
     "name": "stderr",
     "output_type": "stream",
     "text": [
      "100%|███████████████████████████████████████████| 68/68 [00:50<00:00,  1.35it/s]\n"
     ]
    }
   ],
   "source": [
    "rewrite_prompt_embeddings = get_embeddings(rewrite_prompt, model, tokenizer, batch_size=32)"
   ]
  },
  {
   "cell_type": "code",
   "execution_count": 15,
   "id": "c7768a7e",
   "metadata": {},
   "outputs": [
    {
     "data": {
      "text/plain": [
       "tensor([[ 1.3169, -0.3529, -0.3525,  ..., -0.9691, -1.4382,  1.9463],\n",
       "        [ 3.5835,  0.2232,  0.3202,  ..., -1.6859, -1.9136,  4.2549],\n",
       "        [-0.2761,  0.1357,  0.8542,  ..., -1.6118, -2.8962, -2.1346],\n",
       "        [ 2.4610,  0.1310, -1.2601,  ..., -2.3946, -0.8320,  2.4909],\n",
       "        [ 1.6543,  0.3366,  1.1696,  ...,  0.4007, -0.0358,  1.1666]])"
      ]
     },
     "execution_count": 15,
     "metadata": {},
     "output_type": "execute_result"
    }
   ],
   "source": [
    "rewrite_prompt_embeddings[0:5]"
   ]
  },
  {
   "cell_type": "code",
   "execution_count": 16,
   "id": "5d0a16a3",
   "metadata": {},
   "outputs": [],
   "source": [
    "torch.save(rewrite_prompt_embeddings, 'rewrite_prompt_embeddings.pt')"
   ]
  },
  {
   "cell_type": "markdown",
   "id": "667ccbd6",
   "metadata": {},
   "source": [
    "# Predict prompts"
   ]
  },
  {
   "cell_type": "code",
   "execution_count": null,
   "id": "8051058a",
   "metadata": {},
   "outputs": [],
   "source": [
    "predicted_prompts = []"
   ]
  },
  {
   "cell_type": "code",
   "execution_count": 25,
   "id": "7c974df2",
   "metadata": {},
   "outputs": [],
   "source": [
    "# Forward pass through the model\n",
    "output = model(inputs_embeds=torch.randn(1, 2, 4096).cuda())"
   ]
  },
  {
   "cell_type": "code",
   "execution_count": 30,
   "id": "aec6c6c2",
   "metadata": {},
   "outputs": [
    {
     "data": {
      "text/plain": [
       "torch.Size([1, 2, 4096])"
      ]
     },
     "execution_count": 30,
     "metadata": {},
     "output_type": "execute_result"
    }
   ],
   "source": [
    "output.last_hidden_state.shape"
   ]
  },
  {
   "cell_type": "code",
   "execution_count": null,
   "id": "72aafaaa",
   "metadata": {},
   "outputs": [],
   "source": []
  }
 ],
 "metadata": {
  "kernelspec": {
   "display_name": "Python 3 (ipykernel)",
   "language": "python",
   "name": "python3"
  },
  "language_info": {
   "codemirror_mode": {
    "name": "ipython",
    "version": 3
   },
   "file_extension": ".py",
   "mimetype": "text/x-python",
   "name": "python",
   "nbconvert_exporter": "python",
   "pygments_lexer": "ipython3",
   "version": "3.12.2"
  }
 },
 "nbformat": 4,
 "nbformat_minor": 5
}
