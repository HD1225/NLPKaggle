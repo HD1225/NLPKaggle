{
 "cells": [
  {
   "cell_type": "markdown",
   "id": "2b1713c3",
   "metadata": {},
   "source": [
    "# 环境"
   ]
  },
  {
   "cell_type": "code",
   "execution_count": 1,
   "id": "5fd3dfe1-a2ca-4ef7-a056-981becbea06a",
   "metadata": {},
   "outputs": [],
   "source": [
    "import os\n",
    "import torch\n",
    "import torch.nn as nn\n",
    "import time\n",
    "from transformers import AutoModel, AutoTokenizer\n",
    "\n",
    "# check if GPU is available\n",
    "device = torch.device(\"cuda\" if torch.cuda.is_available() else \"cpu\")"
   ]
  },
  {
   "cell_type": "markdown",
   "id": "b79475a4",
   "metadata": {},
   "source": [
    "# 加载数据 | Load data"
   ]
  },
  {
   "cell_type": "code",
   "execution_count": 2,
   "id": "60ac8289",
   "metadata": {},
   "outputs": [
    {
     "data": {
      "text/html": [
       "<div>\n",
       "<style scoped>\n",
       "    .dataframe tbody tr th:only-of-type {\n",
       "        vertical-align: middle;\n",
       "    }\n",
       "\n",
       "    .dataframe tbody tr th {\n",
       "        vertical-align: top;\n",
       "    }\n",
       "\n",
       "    .dataframe thead th {\n",
       "        text-align: right;\n",
       "    }\n",
       "</style>\n",
       "<table border=\"1\" class=\"dataframe\">\n",
       "  <thead>\n",
       "    <tr style=\"text-align: right;\">\n",
       "      <th></th>\n",
       "      <th>id</th>\n",
       "      <th>original_text</th>\n",
       "      <th>rewrite_prompt</th>\n",
       "      <th>rewritten_text</th>\n",
       "    </tr>\n",
       "  </thead>\n",
       "  <tbody>\n",
       "    <tr>\n",
       "      <th>0</th>\n",
       "      <td>LNpAovroGe</td>\n",
       "      <td>This quilt, that my mother made, \\n \\n Still m...</td>\n",
       "      <td>Regency Romance: Model the text on a Regency r...</td>\n",
       "      <td>The softest brown and brightest blue quilt, cr...</td>\n",
       "    </tr>\n",
       "    <tr>\n",
       "      <th>1</th>\n",
       "      <td>nnuxwwThWi</td>\n",
       "      <td>It's the job of our agency to keep track of th...</td>\n",
       "      <td>Write like Ernest Hemingway: Focus on Hemingwa...</td>\n",
       "      <td>The agency's responsibility is to track and co...</td>\n",
       "    </tr>\n",
       "    <tr>\n",
       "      <th>2</th>\n",
       "      <td>aYmnFCsjKl</td>\n",
       "      <td>The first punch gets me right in the ribs, kno...</td>\n",
       "      <td>Grimm's Fairy Tales: Adapt the text to mimic t...</td>\n",
       "      <td>In the sweltering sun, the stench of sweat and...</td>\n",
       "    </tr>\n",
       "    <tr>\n",
       "      <th>3</th>\n",
       "      <td>ufIVkreRND</td>\n",
       "      <td>Some nights I lay awake staring at the ceiling...</td>\n",
       "      <td>High Fantasy Epic: Transform the essay into a ...</td>\n",
       "      <td>In the tapestry of the ethereal realm of Eldri...</td>\n",
       "    </tr>\n",
       "    <tr>\n",
       "      <th>4</th>\n",
       "      <td>XwLNuYdDdE</td>\n",
       "      <td>I can hardly read the letter, because the hand...</td>\n",
       "      <td>Fairy Tale Villain: Use the menacing and craft...</td>\n",
       "      <td>My hand quivered as I clutched the letter, the...</td>\n",
       "    </tr>\n",
       "  </tbody>\n",
       "</table>\n",
       "</div>"
      ],
      "text/plain": [
       "           id                                      original_text  \\\n",
       "0  LNpAovroGe  This quilt, that my mother made, \\n \\n Still m...   \n",
       "1  nnuxwwThWi  It's the job of our agency to keep track of th...   \n",
       "2  aYmnFCsjKl  The first punch gets me right in the ribs, kno...   \n",
       "3  ufIVkreRND  Some nights I lay awake staring at the ceiling...   \n",
       "4  XwLNuYdDdE  I can hardly read the letter, because the hand...   \n",
       "\n",
       "                                      rewrite_prompt  \\\n",
       "0  Regency Romance: Model the text on a Regency r...   \n",
       "1  Write like Ernest Hemingway: Focus on Hemingwa...   \n",
       "2  Grimm's Fairy Tales: Adapt the text to mimic t...   \n",
       "3  High Fantasy Epic: Transform the essay into a ...   \n",
       "4  Fairy Tale Villain: Use the menacing and craft...   \n",
       "\n",
       "                                      rewritten_text  \n",
       "0  The softest brown and brightest blue quilt, cr...  \n",
       "1  The agency's responsibility is to track and co...  \n",
       "2  In the sweltering sun, the stench of sweat and...  \n",
       "3  In the tapestry of the ethereal realm of Eldri...  \n",
       "4  My hand quivered as I clutched the letter, the...  "
      ]
     },
     "execution_count": 2,
     "metadata": {},
     "output_type": "execute_result"
    }
   ],
   "source": [
    "import pandas as pd\n",
    "\n",
    "# file path\n",
    "path = './nbroad-v1.csv'\n",
    "# read file\n",
    "df = pd.read_csv(path)\n",
    "df.head()"
   ]
  },
  {
   "cell_type": "code",
   "execution_count": 5,
   "id": "fd39de80",
   "metadata": {},
   "outputs": [],
   "source": [
    "original_text = list(df['original_text'])\n",
    "rewritten_text = list(df['rewritten_text'])\n",
    "rewrite_prompt = list(df['rewrite_prompt'])"
   ]
  },
  {
   "cell_type": "code",
   "execution_count": 6,
   "id": "819d22e6",
   "metadata": {},
   "outputs": [
    {
     "data": {
      "text/plain": [
       "\"This quilt, that my mother made, \\n \\n Still makes me think to this day. \\n \\n It's softest brown, and brightest blue, \\n \\n The curved stitch here, reads `` made it May''. \\n \\n It's hard to see, but believe me it's true, \\n \\n That's not just a cloth but a piece of shirt. \\n \\n You can see a logo here, and right there, \\n \\n And a signature over there, someone named `` Bert''. \\n \\n This is my favorite part, a piece from a stuffed bear. \\n \\n I think it was my mother's favorite too, \\n \\n She always said so at least. \\n \\n Something from when she was two, \\n \\n Given by her grandad for Thanksgiving feast. \\n \\n My dad added this, a little button pin, \\n \\n Something from his mother, for being a scout. \\n \\n Apparently she went to a store and fished in a bin, \\n \\n Until night that day, to teach him what love was about. \\n \\n I'm sorry you had to see this, \\n \\n but their funeral was delayed. \\n \\n \\n \\n\\n\""
      ]
     },
     "execution_count": 6,
     "metadata": {},
     "output_type": "execute_result"
    }
   ],
   "source": [
    "# test\n",
    "original_text[0]\n",
    "# rewritten_text[0]\n",
    "# rewrite_prompt[0]"
   ]
  },
  {
   "cell_type": "markdown",
   "id": "ecc2437d",
   "metadata": {},
   "source": [
    "# Load model"
   ]
  },
  {
   "cell_type": "code",
   "execution_count": 8,
   "id": "c95bcdbd",
   "metadata": {},
   "outputs": [
    {
     "data": {
      "application/vnd.jupyter.widget-view+json": {
       "model_id": "e47488fe621848089216f97685524576",
       "version_major": 2,
       "version_minor": 0
      },
      "text/plain": [
       "tokenizer_config.json:   0%|          | 0.00/1.43k [00:00<?, ?B/s]"
      ]
     },
     "metadata": {},
     "output_type": "display_data"
    },
    {
     "data": {
      "application/vnd.jupyter.widget-view+json": {
       "model_id": "b8a20c64b4d44f699a3a7e7dbe5e2ea5",
       "version_major": 2,
       "version_minor": 0
      },
      "text/plain": [
       "tokenizer.model:   0%|          | 0.00/493k [00:00<?, ?B/s]"
      ]
     },
     "metadata": {},
     "output_type": "display_data"
    },
    {
     "data": {
      "application/vnd.jupyter.widget-view+json": {
       "model_id": "8549fad543de4475991db282f7e5d123",
       "version_major": 2,
       "version_minor": 0
      },
      "text/plain": [
       "tokenizer.json:   0%|          | 0.00/1.80M [00:00<?, ?B/s]"
      ]
     },
     "metadata": {},
     "output_type": "display_data"
    },
    {
     "data": {
      "application/vnd.jupyter.widget-view+json": {
       "model_id": "f4c6cba6fb0243c383a59acd2aca87e4",
       "version_major": 2,
       "version_minor": 0
      },
      "text/plain": [
       "added_tokens.json:   0%|          | 0.00/42.0 [00:00<?, ?B/s]"
      ]
     },
     "metadata": {},
     "output_type": "display_data"
    },
    {
     "data": {
      "application/vnd.jupyter.widget-view+json": {
       "model_id": "dc526c49cfdb48cd838b90f84d43ce86",
       "version_major": 2,
       "version_minor": 0
      },
      "text/plain": [
       "special_tokens_map.json:   0%|          | 0.00/168 [00:00<?, ?B/s]"
      ]
     },
     "metadata": {},
     "output_type": "display_data"
    }
   ],
   "source": [
    "tokenizer = AutoTokenizer.from_pretrained(\"HuggingFaceH4/zephyr-7b-alpha\")"
   ]
  },
  {
   "cell_type": "code",
   "execution_count": 7,
   "id": "52b25c14",
   "metadata": {},
   "outputs": [
    {
     "data": {
      "application/vnd.jupyter.widget-view+json": {
       "model_id": "74ca5158b891467ea80a030814cb8146",
       "version_major": 2,
       "version_minor": 0
      },
      "text/plain": [
       "config.json:   0%|          | 0.00/628 [00:00<?, ?B/s]"
      ]
     },
     "metadata": {},
     "output_type": "display_data"
    },
    {
     "data": {
      "application/vnd.jupyter.widget-view+json": {
       "model_id": "918ab0ba60474a9da2f703910fe930c8",
       "version_major": 2,
       "version_minor": 0
      },
      "text/plain": [
       "model.safetensors.index.json:   0%|          | 0.00/23.9k [00:00<?, ?B/s]"
      ]
     },
     "metadata": {},
     "output_type": "display_data"
    },
    {
     "data": {
      "application/vnd.jupyter.widget-view+json": {
       "model_id": "3630258c6f524bf0b2bdd4b0e4123fbb",
       "version_major": 2,
       "version_minor": 0
      },
      "text/plain": [
       "Downloading shards:   0%|          | 0/8 [00:00<?, ?it/s]"
      ]
     },
     "metadata": {},
     "output_type": "display_data"
    },
    {
     "data": {
      "application/vnd.jupyter.widget-view+json": {
       "model_id": "5488b8574c8e4546bc237c3d4aa4449c",
       "version_major": 2,
       "version_minor": 0
      },
      "text/plain": [
       "model-00001-of-00008.safetensors:   0%|          | 0.00/1.89G [00:00<?, ?B/s]"
      ]
     },
     "metadata": {},
     "output_type": "display_data"
    },
    {
     "data": {
      "application/vnd.jupyter.widget-view+json": {
       "model_id": "d0b0b385144a4475bd06d75124deb8a0",
       "version_major": 2,
       "version_minor": 0
      },
      "text/plain": [
       "model-00002-of-00008.safetensors:   0%|          | 0.00/1.95G [00:00<?, ?B/s]"
      ]
     },
     "metadata": {},
     "output_type": "display_data"
    },
    {
     "data": {
      "application/vnd.jupyter.widget-view+json": {
       "model_id": "942003c9ecb441f485d66161b1399555",
       "version_major": 2,
       "version_minor": 0
      },
      "text/plain": [
       "model-00003-of-00008.safetensors:   0%|          | 0.00/1.98G [00:00<?, ?B/s]"
      ]
     },
     "metadata": {},
     "output_type": "display_data"
    },
    {
     "data": {
      "application/vnd.jupyter.widget-view+json": {
       "model_id": "449bc9e3cb6c4d10bda9e042552ebd16",
       "version_major": 2,
       "version_minor": 0
      },
      "text/plain": [
       "model-00004-of-00008.safetensors:   0%|          | 0.00/1.95G [00:00<?, ?B/s]"
      ]
     },
     "metadata": {},
     "output_type": "display_data"
    },
    {
     "data": {
      "application/vnd.jupyter.widget-view+json": {
       "model_id": "737a2f4c670742c5a0a81aa2d1932055",
       "version_major": 2,
       "version_minor": 0
      },
      "text/plain": [
       "model-00005-of-00008.safetensors:   0%|          | 0.00/1.98G [00:00<?, ?B/s]"
      ]
     },
     "metadata": {},
     "output_type": "display_data"
    },
    {
     "data": {
      "application/vnd.jupyter.widget-view+json": {
       "model_id": "9f3c1073b31a40d78bd93ce534497d8a",
       "version_major": 2,
       "version_minor": 0
      },
      "text/plain": [
       "model-00006-of-00008.safetensors:   0%|          | 0.00/1.95G [00:00<?, ?B/s]"
      ]
     },
     "metadata": {},
     "output_type": "display_data"
    },
    {
     "data": {
      "application/vnd.jupyter.widget-view+json": {
       "model_id": "74ab1adb3b21412ca3045e22c30e48cd",
       "version_major": 2,
       "version_minor": 0
      },
      "text/plain": [
       "model-00007-of-00008.safetensors:   0%|          | 0.00/1.98G [00:00<?, ?B/s]"
      ]
     },
     "metadata": {},
     "output_type": "display_data"
    },
    {
     "data": {
      "application/vnd.jupyter.widget-view+json": {
       "model_id": "1013b14bcd5c4590a95e7528accbcebb",
       "version_major": 2,
       "version_minor": 0
      },
      "text/plain": [
       "model-00008-of-00008.safetensors:   0%|          | 0.00/816M [00:00<?, ?B/s]"
      ]
     },
     "metadata": {},
     "output_type": "display_data"
    },
    {
     "data": {
      "application/vnd.jupyter.widget-view+json": {
       "model_id": "092fbd61b51544b9a47d154b73a4db99",
       "version_major": 2,
       "version_minor": 0
      },
      "text/plain": [
       "Loading checkpoint shards:   0%|          | 0/8 [00:00<?, ?it/s]"
      ]
     },
     "metadata": {},
     "output_type": "display_data"
    }
   ],
   "source": [
    "model = AutoModel.from_pretrained(\"HuggingFaceH4/zephyr-7b-alpha\").to(device)"
   ]
  },
  {
   "cell_type": "code",
   "execution_count": 16,
   "id": "f9d4a961",
   "metadata": {},
   "outputs": [
    {
     "name": "stderr",
     "output_type": "stream",
     "text": [
      "  6%|██▍                                     | 135/2166 [02:05<31:27,  1.08it/s]\n"
     ]
    },
    {
     "ename": "KeyboardInterrupt",
     "evalue": "",
     "output_type": "error",
     "traceback": [
      "\u001b[0;31m---------------------------------------------------------------------------\u001b[0m",
      "\u001b[0;31mKeyboardInterrupt\u001b[0m                         Traceback (most recent call last)",
      "Cell \u001b[0;32mIn[16], line 9\u001b[0m\n\u001b[1;32m      7\u001b[0m     outputs \u001b[38;5;241m=\u001b[39m model(\u001b[38;5;241m*\u001b[39m\u001b[38;5;241m*\u001b[39minputs)\n\u001b[1;32m      8\u001b[0m embeddings \u001b[38;5;241m=\u001b[39m outputs\u001b[38;5;241m.\u001b[39mlast_hidden_state\u001b[38;5;241m.\u001b[39mmean(dim\u001b[38;5;241m=\u001b[39m\u001b[38;5;241m1\u001b[39m)\n\u001b[0;32m----> 9\u001b[0m list_embeddings\u001b[38;5;241m.\u001b[39mappend(embeddings\u001b[38;5;241m.\u001b[39mcpu()\u001b[38;5;241m.\u001b[39mnumpy())\n",
      "\u001b[0;31mKeyboardInterrupt\u001b[0m: "
     ]
    }
   ],
   "source": [
    "from tqdm import tqdm\n",
    "list_embeddings = []\n",
    "for sentence in tqdm(original_text):\n",
    "    inputs = tokenizer(sentence, return_tensors=\"pt\", padding=True, truncation=True).to(device)\n",
    "#     inputs = inputs.to(device)\n",
    "    with torch.no_grad():\n",
    "        outputs = model(**inputs)\n",
    "    embeddings = outputs.last_hidden_state.mean(dim=1)\n",
    "    list_embeddings.append(embeddings.cpu().numpy())"
   ]
  },
  {
   "cell_type": "code",
   "execution_count": 17,
   "id": "44c21fba",
   "metadata": {},
   "outputs": [],
   "source": [
    "inputs = tokenizer(original_text, return_tensors=\"pt\", padding=True, truncation=True)"
   ]
  },
  {
   "cell_type": "code",
   "execution_count": 19,
   "id": "dee816ae",
   "metadata": {},
   "outputs": [
    {
     "data": {
      "text/plain": [
       "dict_keys(['input_ids', 'attention_mask'])"
      ]
     },
     "execution_count": 19,
     "metadata": {},
     "output_type": "execute_result"
    }
   ],
   "source": []
  },
  {
   "cell_type": "code",
   "execution_count": null,
   "id": "eb06b4fd",
   "metadata": {},
   "outputs": [],
   "source": []
  }
 ],
 "metadata": {
  "kernelspec": {
   "display_name": "Python 3 (ipykernel)",
   "language": "python",
   "name": "python3"
  },
  "language_info": {
   "codemirror_mode": {
    "name": "ipython",
    "version": 3
   },
   "file_extension": ".py",
   "mimetype": "text/x-python",
   "name": "python",
   "nbconvert_exporter": "python",
   "pygments_lexer": "ipython3",
   "version": "3.12.2"
  }
 },
 "nbformat": 4,
 "nbformat_minor": 5
}
