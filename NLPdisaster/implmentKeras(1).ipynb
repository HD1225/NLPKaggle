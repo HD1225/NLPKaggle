{
 "cells": [
  {
   "cell_type": "markdown",
   "metadata": {},
   "source": [
    "## File Pre-process"
   ]
  },
  {
   "cell_type": "code",
   "execution_count": 7,
   "metadata": {},
   "outputs": [
    {
     "name": "stdout",
     "output_type": "stream",
     "text": [
      "d:\\PYTHON\\Vscode\\Kaggle\\NLPdisaster\n",
      "['extracted', 'implmentKeras.ipynb', 'nlp-getting-started.zip', 'submission.csv', 'submission_example.csv', 'test_trainer']\n"
     ]
    }
   ],
   "source": [
    "import os \n",
    "import shutil\n",
    "# get the current working directory \n",
    "path = os.getcwd()\n",
    "print(path)\n",
    "# get the relevant file names under the current working directory\n",
    "file_name = os.listdir(path)\n",
    "print(file_name)"
   ]
  },
  {
   "cell_type": "code",
   "execution_count": 3,
   "metadata": {},
   "outputs": [
    {
     "name": "stdout",
     "output_type": "stream",
     "text": [
      "['extracted', 'implmentKeras.ipynb', 'nlp-getting-started.zip', 'submission.csv', 'submission_example.csv', 'test_trainer']\n"
     ]
    }
   ],
   "source": [
    "# Using . as current directory, .. as parent directory\n",
    "print(os.listdir(\".\"))"
   ]
  },
  {
   "cell_type": "code",
   "execution_count": 8,
   "metadata": {},
   "outputs": [
    {
     "name": "stdout",
     "output_type": "stream",
     "text": [
      "Existing folder deleted.\n",
      "Extraction completed.\n"
     ]
    }
   ],
   "source": [
    "# Define the path to the extracted folder\n",
    "extracted_folder_path = os.path.join(os.getcwd(), \"extracted\")\n",
    "\n",
    "try:\n",
    "    # Attempt to delete the folder and its contents\n",
    "    shutil.rmtree(extracted_folder_path)\n",
    "    print(\"Existing folder deleted.\")\n",
    "except FileNotFoundError:\n",
    "    # The folder does not exist\n",
    "    print(\"Folder does not exist, ready to extract.\")\n",
    "except Exception as e:\n",
    "    # Handle other exceptions, such as permission errors\n",
    "    print(f\"Error occurred: {e}\")\n",
    "\n",
    "# Proceed with the extraction\n",
    "# Assuming the zip file is the second file in the directory listing, adjust as needed\n",
    "zip_file_path = os.path.join(os.getcwd(), os.listdir(\".\")[1])\n",
    "\n",
    "with zipfile.ZipFile(zip_file_path, \"r\") as zip_ref:\n",
    "    zip_ref.extractall(extracted_folder_path)\n",
    "    print(\"Extraction completed.\")"
   ]
  },
  {
   "cell_type": "markdown",
   "metadata": {},
   "source": [
    "## Data Pre-process"
   ]
  },
  {
   "cell_type": "code",
   "execution_count": 9,
   "metadata": {},
   "outputs": [],
   "source": [
    "## 复现 教程\n",
    "import numpy as np\n",
    "import pandas as pd"
   ]
  },
  {
   "cell_type": "code",
   "execution_count": 10,
   "metadata": {},
   "outputs": [
    {
     "name": "stdout",
     "output_type": "stream",
     "text": [
      "   id keyword location                                               text  \\\n",
      "0   1     NaN      NaN  Our Deeds are the Reason of this #earthquake M...   \n",
      "1   4     NaN      NaN             Forest fire near La Ronge Sask. Canada   \n",
      "2   5     NaN      NaN  All residents asked to 'shelter in place' are ...   \n",
      "3   6     NaN      NaN  13,000 people receive #wildfires evacuation or...   \n",
      "4   7     NaN      NaN  Just got sent this photo from Ruby #Alaska as ...   \n",
      "\n",
      "   target  \n",
      "0       1  \n",
      "1       1  \n",
      "2       1  \n",
      "3       1  \n",
      "4       1  \n"
     ]
    }
   ],
   "source": [
    "train_pd = pd.read_csv(extracted + \"/train.csv\")\n",
    "print(train_pd.head())"
   ]
  },
  {
   "cell_type": "code",
   "execution_count": 11,
   "metadata": {},
   "outputs": [
    {
     "name": "stdout",
     "output_type": "stream",
     "text": [
      "    id keyword location                          text  target\n",
      "15  23     NaN      NaN                What's up man?       0\n",
      "16  24     NaN      NaN                 I love fruits       0\n",
      "17  25     NaN      NaN              Summer is lovely       0\n",
      "18  26     NaN      NaN             My car is so fast       0\n",
      "19  28     NaN      NaN  What a goooooooaaaaaal!!!!!!       0\n"
     ]
    }
   ],
   "source": [
    "# print the columns that target is 0 \n",
    "print(train_pd[train_pd[\"target\"] == 0].head())"
   ]
  },
  {
   "cell_type": "code",
   "execution_count": 12,
   "metadata": {},
   "outputs": [
    {
     "data": {
      "text/plain": [
       "<Axes: ylabel='Frequency'>"
      ]
     },
     "execution_count": 12,
     "metadata": {},
     "output_type": "execute_result"
    },
    {
     "data": {
      "image/png": "[encoded data removed]",
      "text/plain": [
       "<Figure size 640x480 with 1 Axes>"
      ]
     },
     "metadata": {},
     "output_type": "display_data"
    }
   ],
   "source": [
    "# plot the distribution of the target\n",
    "train_pd[\"target\"].plot.hist()"
   ]
  },
  {
   "cell_type": "code",
   "execution_count": 13,
   "metadata": {},
   "outputs": [
    {
     "name": "stdout",
     "output_type": "stream",
     "text": [
      "train shape: (7613, 5), test shape: (3263, 4)\n"
     ]
    }
   ],
   "source": [
    "test_pd = pd.read_csv(extracted + \"/test.csv\")\n",
    "# print the shape \n",
    "print(f\"train shape: {train_pd.shape}, test shape: {test_pd.shape}\")\n"
   ]
  },
  {
   "cell_type": "code",
   "execution_count": 14,
   "metadata": {},
   "outputs": [],
   "source": [
    "# add extra column to train and test to calculate the length \n",
    "train_pd[\"len\"] = train_pd['text'].apply(lambda x: len(x))\n",
    "test_pd[\"len\"] = test_pd['text'].apply(lambda x: len(x))"
   ]
  },
  {
   "cell_type": "code",
   "execution_count": 15,
   "metadata": {},
   "outputs": [
    {
     "data": {
      "text/plain": [
       "0     69\n",
       "1     38\n",
       "2    133\n",
       "3     65\n",
       "Name: len, dtype: int64"
      ]
     },
     "execution_count": 15,
     "metadata": {},
     "output_type": "execute_result"
    }
   ],
   "source": [
    "train_pd[\"len\"][:4]"
   ]
  },
  {
   "cell_type": "code",
   "execution_count": 16,
   "metadata": {},
   "outputs": [
    {
     "data": {
      "text/plain": [
       "<Axes: >"
      ]
     },
     "execution_count": 16,
     "metadata": {},
     "output_type": "execute_result"
    },
    {
     "data": {
      "image/png": "[encoded data removed]",
      "text/plain": [
       "<Figure size 640x480 with 1 Axes>"
      ]
     },
     "metadata": {},
     "output_type": "display_data"
    }
   ],
   "source": [
    "train_pd['len'].hist()"
   ]
  },
  {
   "cell_type": "code",
   "execution_count": 17,
   "metadata": {},
   "outputs": [
    {
     "name": "stdout",
     "output_type": "stream",
     "text": [
      "max length of the text in the train: 157\n"
     ]
    }
   ],
   "source": [
    "# the maximum length of the text\n",
    "print(f\"max length of the text in the train: {train_pd['len'].max()}\")"
   ]
  },
  {
   "cell_type": "code",
   "execution_count": 18,
   "metadata": {},
   "outputs": [],
   "source": [
    "# process the data \n",
    "X = train_pd['text']\n",
    "y = train_pd['target']"
   ]
  },
  {
   "cell_type": "code",
   "execution_count": 19,
   "metadata": {},
   "outputs": [],
   "source": [
    "from sklearn.model_selection import train_test_split\n",
    "X_train, X_test, y_train, y_test = train_test_split(X, y, test_size=0.2, random_state=42)\n"
   ]
  },
  {
   "cell_type": "code",
   "execution_count": 20,
   "metadata": {},
   "outputs": [
    {
     "name": "stdout",
     "output_type": "stream",
     "text": [
      "X_train shape: (6090,), X_test shape: (1523,)\n"
     ]
    }
   ],
   "source": [
    "print(f\"X_train shape: {X_train.shape}, X_test shape: {X_test.shape}\")"
   ]
  },
  {
   "cell_type": "markdown",
   "metadata": {},
   "source": [
    "## Distilled Bert"
   ]
  },
  {
   "cell_type": "code",
   "execution_count": 21,
   "metadata": {},
   "outputs": [
    {
     "name": "stderr",
     "output_type": "stream",
     "text": [
      "d:\\PYTHON\\ENV\\labsession\\lib\\site-packages\\tqdm\\auto.py:21: TqdmWarning: IProgress not found. Please update jupyter and ipywidgets. See https://ipywidgets.readthedocs.io/en/stable/user_install.html\n",
      "  from .autonotebook import tqdm as notebook_tqdm\n",
      "Some weights of DistilBertForSequenceClassification were not initialized from the model checkpoint at distilbert/distilbert-base-uncased and are newly initialized: ['classifier.bias', 'classifier.weight', 'pre_classifier.bias', 'pre_classifier.weight']\n",
      "You should probably TRAIN this model on a down-stream task to be able to use it for predictions and inference.\n"
     ]
    }
   ],
   "source": [
    "from transformers import AutoTokenizer, AutoModelForSequenceClassification\n",
    "import torch\n",
    "\n",
    "tokenizer = AutoTokenizer.from_pretrained(\"distilbert/distilbert-base-uncased\")\n",
    "# add drop out to the model\n",
    "drop_out = 0.2\n",
    "\n",
    "model = AutoModelForSequenceClassification.from_pretrained(\"distilbert/distilbert-base-uncased\").to(\"cuda\")"
   ]
  },
  {
   "cell_type": "code",
   "execution_count": 22,
   "metadata": {},
   "outputs": [],
   "source": [
    "# tokenizer \n",
    "X_train_tokenized = tokenizer(X_train.to_list(), padding=True, truncation=True, return_tensors=\"pt\",max_length = 200)"
   ]
  },
  {
   "cell_type": "code",
   "execution_count": 23,
   "metadata": {},
   "outputs": [],
   "source": [
    "X_test_tokenized = tokenizer(X_test.to_list(), padding=True, truncation=True, return_tensors=\"pt\",max_length = 200)"
   ]
  },
  {
   "cell_type": "code",
   "execution_count": 24,
   "metadata": {},
   "outputs": [],
   "source": [
    "# model\n",
    "with torch.no_grad():\n",
    "    X_train_encoded = model(**X_train_tokenized.to(\"cuda\"))\n",
    "\n",
    "# this three dim stands for batch size, sequence length, hidden size"
   ]
  },
  {
   "cell_type": "code",
   "execution_count": 25,
   "metadata": {},
   "outputs": [],
   "source": [
    "with torch.no_grad():\n",
    "    X_test_encoded = model(**X_test_tokenized.to(\"cuda\"))\n",
    "\n",
    "# print(X_test_encoded.last_hidden_state.shape)"
   ]
  },
  {
   "cell_type": "code",
   "execution_count": 26,
   "metadata": {},
   "outputs": [
    {
     "name": "stdout",
     "output_type": "stream",
     "text": [
      "torch.Size([6090]) torch.Size([1523])\n"
     ]
    }
   ],
   "source": [
    "# process y \n",
    "# Instead of .to(\"cuda\"), keep them on the CPU\n",
    "y_train = torch.tensor(y_train.tolist())  # Already on CPU by default\n",
    "y_test = torch.tensor(y_test.tolist())    # Already on CPU by default\n",
    "\n",
    "print(y_train.shape, y_test.shape)"
   ]
  },
  {
   "cell_type": "code",
   "execution_count": 27,
   "metadata": {},
   "outputs": [
    {
     "data": {
      "text/plain": [
       "DistilBertConfig {\n",
       "  \"_name_or_path\": \"distilbert/distilbert-base-uncased\",\n",
       "  \"activation\": \"gelu\",\n",
       "  \"architectures\": [\n",
       "    \"DistilBertForMaskedLM\"\n",
       "  ],\n",
       "  \"attention_dropout\": 0.1,\n",
       "  \"dim\": 768,\n",
       "  \"dropout\": 0.1,\n",
       "  \"hidden_dim\": 3072,\n",
       "  \"initializer_range\": 0.02,\n",
       "  \"max_position_embeddings\": 512,\n",
       "  \"model_type\": \"distilbert\",\n",
       "  \"n_heads\": 12,\n",
       "  \"n_layers\": 6,\n",
       "  \"pad_token_id\": 0,\n",
       "  \"qa_dropout\": 0.1,\n",
       "  \"seq_classif_dropout\": 0.2,\n",
       "  \"sinusoidal_pos_embds\": false,\n",
       "  \"tie_weights_\": true,\n",
       "  \"transformers_version\": \"4.38.2\",\n",
       "  \"vocab_size\": 30522\n",
       "}"
      ]
     },
     "execution_count": 27,
     "metadata": {},
     "output_type": "execute_result"
    }
   ],
   "source": [
    "# check our model \n",
    "model.config"
   ]
  },
  {
   "cell_type": "code",
   "execution_count": 29,
   "metadata": {},
   "outputs": [],
   "source": [
    "from torch.utils.data import Dataset\n",
    "class CustomDataset(Dataset):\n",
    "    def __init__(self, encodings, labels):\n",
    "        self.encodings = {k: v.cpu() for k, v in encodings.items()}  # Ensure encodings are on CPU\n",
    "        self.labels = labels.cpu()  # Ensure labels are on CPU\n",
    "\n",
    "    def __getitem__(self, idx):\n",
    "        item = {key: val[idx].clone().detach() for key, val in self.encodings.items()}  # Clone to ensure no grad\n",
    "        item['labels'] = self.labels[idx].clone().detach()  # Clone to ensure no grad\n",
    "        return item\n",
    "\n",
    "    def __len__(self):\n",
    "        return len(self.labels)\n",
    "\n",
    "\n",
    "# Create instances of CustomDataset\n",
    "train_dataset = CustomDataset(X_train_tokenized, y_train)\n",
    "test_dataset = CustomDataset(X_test_tokenized, y_test)\n"
   ]
  },
  {
   "cell_type": "code",
   "execution_count": 36,
   "metadata": {},
   "outputs": [
    {
     "name": "stdout",
     "output_type": "stream",
     "text": [
      "Deleted existing checkpoint folder: ./test_trainer\n"
     ]
    }
   ],
   "source": [
    "\n",
    "\n",
    "# Specify the path to the checkpoint folder\n",
    "checkpoint_folder = \"./test_trainer\"\n",
    "\n",
    "try:\n",
    "    # Attempt to delete the checkpoint folder and its contents\n",
    "    shutil.rmtree(checkpoint_folder)\n",
    "    print(f\"Deleted existing checkpoint folder: {checkpoint_folder}\")\n",
    "except FileNotFoundError:\n",
    "    # The checkpoint folder does not exist\n",
    "    print(\"No existing checkpoint folder to delete.\")\n",
    "except Exception as e:\n",
    "    # An unexpected error occurred\n",
    "    print(f\"Error occurred while trying to delete checkpoint folder: {e}\")\n",
    "\n",
    "# Proceed with the rest of your script here, such as setting up TrainingArguments and initializing the Trainer\n"
   ]
  },
  {
   "cell_type": "code",
   "execution_count": 37,
   "metadata": {},
   "outputs": [
    {
     "name": "stderr",
     "output_type": "stream",
     "text": [
      "d:\\PYTHON\\ENV\\labsession\\lib\\site-packages\\accelerate\\accelerator.py:432: FutureWarning: Passing the following arguments to `Accelerator` is deprecated and will be removed in version 1.0 of Accelerate: dict_keys(['dispatch_batches', 'split_batches', 'even_batches', 'use_seedable_sampler']). Please pass an `accelerate.DataLoaderConfiguration` instead: \n",
      "dataloader_config = DataLoaderConfiguration(dispatch_batches=None, split_batches=False, even_batches=True, use_seedable_sampler=True)\n",
      "  warnings.warn(\n",
      "  3%|▎         | 102/3810 [00:07<02:55, 21.13it/s]"
     ]
    },
    {
     "name": "stdout",
     "output_type": "stream",
     "text": [
      "{'loss': 0.0542, 'grad_norm': 0.2939712703227997, 'learning_rate': 1e-05, 'epoch': 0.13}\n"
     ]
    },
    {
     "name": "stderr",
     "output_type": "stream",
     "text": [
      "  5%|▌         | 204/3810 [00:11<02:45, 21.77it/s]"
     ]
    },
    {
     "name": "stdout",
     "output_type": "stream",
     "text": [
      "{'loss': 0.1165, 'grad_norm': 0.2624434232711792, 'learning_rate': 2e-05, 'epoch': 0.26}\n"
     ]
    },
    {
     "name": "stderr",
     "output_type": "stream",
     "text": [
      "  8%|▊         | 303/3810 [00:16<02:43, 21.40it/s]"
     ]
    },
    {
     "name": "stdout",
     "output_type": "stream",
     "text": [
      "{'loss': 0.1001, 'grad_norm': 0.05035383254289627, 'learning_rate': 3e-05, 'epoch': 0.39}\n"
     ]
    },
    {
     "name": "stderr",
     "output_type": "stream",
     "text": [
      " 11%|█         | 405/3810 [00:21<02:38, 21.52it/s]"
     ]
    },
    {
     "name": "stdout",
     "output_type": "stream",
     "text": [
      "{'loss': 0.0834, 'grad_norm': 0.0066613624803721905, 'learning_rate': 4e-05, 'epoch': 0.52}\n"
     ]
    },
    {
     "name": "stderr",
     "output_type": "stream",
     "text": [
      " 13%|█▎        | 500/3810 [00:25<02:31, 21.84it/s]"
     ]
    },
    {
     "name": "stdout",
     "output_type": "stream",
     "text": [
      "{'loss': 0.1069, 'grad_norm': 0.01729053445160389, 'learning_rate': 5e-05, 'epoch': 0.66}\n"
     ]
    },
    {
     "name": "stderr",
     "output_type": "stream",
     "text": [
      " 16%|█▌        | 603/3810 [00:30<02:31, 21.21it/s]"
     ]
    },
    {
     "name": "stdout",
     "output_type": "stream",
     "text": [
      "{'loss': 0.1128, 'grad_norm': 0.01970563270151615, 'learning_rate': 4.848942598187312e-05, 'epoch': 0.79}\n"
     ]
    },
    {
     "name": "stderr",
     "output_type": "stream",
     "text": [
      " 18%|█▊        | 702/3810 [00:35<02:25, 21.40it/s]"
     ]
    },
    {
     "name": "stdout",
     "output_type": "stream",
     "text": [
      "{'loss': 0.1932, 'grad_norm': 8.049954414367676, 'learning_rate': 4.6978851963746225e-05, 'epoch': 0.92}\n"
     ]
    },
    {
     "name": "stderr",
     "output_type": "stream",
     "text": [
      " 21%|██        | 804/3810 [00:40<02:19, 21.62it/s]"
     ]
    },
    {
     "name": "stdout",
     "output_type": "stream",
     "text": [
      "{'loss': 0.1259, 'grad_norm': 161.18673706054688, 'learning_rate': 4.546827794561934e-05, 'epoch': 1.05}\n"
     ]
    },
    {
     "name": "stderr",
     "output_type": "stream",
     "text": [
      " 24%|██▎       | 903/3810 [00:44<02:16, 21.23it/s]"
     ]
    },
    {
     "name": "stdout",
     "output_type": "stream",
     "text": [
      "{'loss': 0.0656, 'grad_norm': 0.017494676634669304, 'learning_rate': 4.395770392749245e-05, 'epoch': 1.18}\n"
     ]
    },
    {
     "name": "stderr",
     "output_type": "stream",
     "text": [
      " 26%|██▌       | 1000/3810 [00:49<02:08, 21.81it/s]"
     ]
    },
    {
     "name": "stdout",
     "output_type": "stream",
     "text": [
      "{'loss': 0.1454, 'grad_norm': 0.1460566371679306, 'learning_rate': 4.244712990936556e-05, 'epoch': 1.31}\n"
     ]
    },
    {
     "name": "stderr",
     "output_type": "stream",
     "text": [
      " 29%|██▉       | 1104/3810 [00:54<02:04, 21.76it/s]"
     ]
    },
    {
     "name": "stdout",
     "output_type": "stream",
     "text": [
      "{'loss': 0.1319, 'grad_norm': 0.012167723849415779, 'learning_rate': 4.093655589123867e-05, 'epoch': 1.44}\n"
     ]
    },
    {
     "name": "stderr",
     "output_type": "stream",
     "text": [
      " 32%|███▏      | 1203/3810 [00:59<01:59, 21.87it/s]"
     ]
    },
    {
     "name": "stdout",
     "output_type": "stream",
     "text": [
      "{'loss': 0.1348, 'grad_norm': 5.173732757568359, 'learning_rate': 3.9425981873111784e-05, 'epoch': 1.57}\n"
     ]
    },
    {
     "name": "stderr",
     "output_type": "stream",
     "text": [
      " 34%|███▍      | 1305/3810 [01:03<01:52, 22.24it/s]"
     ]
    },
    {
     "name": "stdout",
     "output_type": "stream",
     "text": [
      "{'loss': 0.1329, 'grad_norm': 0.03252275288105011, 'learning_rate': 3.79154078549849e-05, 'epoch': 1.71}\n"
     ]
    },
    {
     "name": "stderr",
     "output_type": "stream",
     "text": [
      " 37%|███▋      | 1404/3810 [01:08<01:49, 22.00it/s]"
     ]
    },
    {
     "name": "stdout",
     "output_type": "stream",
     "text": [
      "{'loss': 0.0888, 'grad_norm': 0.06693843007087708, 'learning_rate': 3.640483383685801e-05, 'epoch': 1.84}\n"
     ]
    },
    {
     "name": "stderr",
     "output_type": "stream",
     "text": [
      " 39%|███▉      | 1500/3810 [01:12<01:44, 22.10it/s]"
     ]
    },
    {
     "name": "stdout",
     "output_type": "stream",
     "text": [
      "{'loss': 0.1581, 'grad_norm': 0.2668377459049225, 'learning_rate': 3.489425981873112e-05, 'epoch': 1.97}\n"
     ]
    },
    {
     "name": "stderr",
     "output_type": "stream",
     "text": [
      " 42%|████▏     | 1605/3810 [01:17<01:40, 21.88it/s]"
     ]
    },
    {
     "name": "stdout",
     "output_type": "stream",
     "text": [
      "{'loss': 0.1029, 'grad_norm': 0.07166309654712677, 'learning_rate': 3.338368580060423e-05, 'epoch': 2.1}\n"
     ]
    },
    {
     "name": "stderr",
     "output_type": "stream",
     "text": [
      " 45%|████▍     | 1704/3810 [01:22<01:35, 21.95it/s]"
     ]
    },
    {
     "name": "stdout",
     "output_type": "stream",
     "text": [
      "{'loss': 0.0501, 'grad_norm': 0.050900209695100784, 'learning_rate': 3.187311178247734e-05, 'epoch': 2.23}\n"
     ]
    },
    {
     "name": "stderr",
     "output_type": "stream",
     "text": [
      " 47%|████▋     | 1803/3810 [01:26<01:33, 21.48it/s]"
     ]
    },
    {
     "name": "stdout",
     "output_type": "stream",
     "text": [
      "{'loss': 0.0977, 'grad_norm': 0.9935785531997681, 'learning_rate': 3.0362537764350457e-05, 'epoch': 2.36}\n"
     ]
    },
    {
     "name": "stderr",
     "output_type": "stream",
     "text": [
      " 50%|████▉     | 1902/3810 [01:31<01:27, 21.74it/s]"
     ]
    },
    {
     "name": "stdout",
     "output_type": "stream",
     "text": [
      "{'loss': 0.0711, 'grad_norm': 0.007462955545634031, 'learning_rate': 2.8851963746223565e-05, 'epoch': 2.49}\n"
     ]
    },
    {
     "name": "stderr",
     "output_type": "stream",
     "text": [
      " 52%|█████▏    | 2000/3810 [01:35<01:22, 21.90it/s]"
     ]
    },
    {
     "name": "stdout",
     "output_type": "stream",
     "text": [
      "{'loss': 0.0812, 'grad_norm': 7.92999267578125, 'learning_rate': 2.734138972809668e-05, 'epoch': 2.62}\n"
     ]
    },
    {
     "name": "stderr",
     "output_type": "stream",
     "text": [
      " 55%|█████▌    | 2103/3810 [01:40<01:17, 22.08it/s]"
     ]
    },
    {
     "name": "stdout",
     "output_type": "stream",
     "text": [
      "{'loss': 0.0866, 'grad_norm': 10.534989356994629, 'learning_rate': 2.583081570996979e-05, 'epoch': 2.76}\n"
     ]
    },
    {
     "name": "stderr",
     "output_type": "stream",
     "text": [
      " 58%|█████▊    | 2202/3810 [01:45<01:12, 22.24it/s]"
     ]
    },
    {
     "name": "stdout",
     "output_type": "stream",
     "text": [
      "{'loss': 0.0703, 'grad_norm': 0.03986269608139992, 'learning_rate': 2.43202416918429e-05, 'epoch': 2.89}\n"
     ]
    },
    {
     "name": "stderr",
     "output_type": "stream",
     "text": [
      " 60%|██████    | 2304/3810 [01:50<01:07, 22.27it/s]"
     ]
    },
    {
     "name": "stdout",
     "output_type": "stream",
     "text": [
      "{'loss': 0.0701, 'grad_norm': 0.010195632465183735, 'learning_rate': 2.2809667673716012e-05, 'epoch': 3.02}\n"
     ]
    },
    {
     "name": "stderr",
     "output_type": "stream",
     "text": [
      " 63%|██████▎   | 2403/3810 [01:54<01:03, 22.27it/s]"
     ]
    },
    {
     "name": "stdout",
     "output_type": "stream",
     "text": [
      "{'loss': 0.0315, 'grad_norm': 0.01080079935491085, 'learning_rate': 2.1299093655589124e-05, 'epoch': 3.15}\n"
     ]
    },
    {
     "name": "stderr",
     "output_type": "stream",
     "text": [
      " 66%|██████▌   | 2500/3810 [01:58<00:58, 22.26it/s]"
     ]
    },
    {
     "name": "stdout",
     "output_type": "stream",
     "text": [
      "{'loss': 0.0849, 'grad_norm': 0.008697696961462498, 'learning_rate': 1.9788519637462235e-05, 'epoch': 3.28}\n"
     ]
    },
    {
     "name": "stderr",
     "output_type": "stream",
     "text": [
      " 68%|██████▊   | 2604/3810 [02:04<00:55, 21.80it/s]"
     ]
    },
    {
     "name": "stdout",
     "output_type": "stream",
     "text": [
      "{'loss': 0.0764, 'grad_norm': 33.17705535888672, 'learning_rate': 1.827794561933535e-05, 'epoch': 3.41}\n"
     ]
    },
    {
     "name": "stderr",
     "output_type": "stream",
     "text": [
      " 71%|███████   | 2703/3810 [02:08<00:50, 21.78it/s]"
     ]
    },
    {
     "name": "stdout",
     "output_type": "stream",
     "text": [
      "{'loss': 0.0526, 'grad_norm': 0.00791336689144373, 'learning_rate': 1.676737160120846e-05, 'epoch': 3.54}\n"
     ]
    },
    {
     "name": "stderr",
     "output_type": "stream",
     "text": [
      " 74%|███████▎  | 2802/3810 [02:13<00:46, 21.83it/s]"
     ]
    },
    {
     "name": "stdout",
     "output_type": "stream",
     "text": [
      "{'loss': 0.0524, 'grad_norm': 0.19626398384571075, 'learning_rate': 1.5256797583081573e-05, 'epoch': 3.67}\n"
     ]
    },
    {
     "name": "stderr",
     "output_type": "stream",
     "text": [
      " 76%|███████▌  | 2904/3810 [02:17<00:41, 21.76it/s]"
     ]
    },
    {
     "name": "stdout",
     "output_type": "stream",
     "text": [
      "{'loss': 0.0415, 'grad_norm': 0.4594835638999939, 'learning_rate': 1.3746223564954682e-05, 'epoch': 3.81}\n"
     ]
    },
    {
     "name": "stderr",
     "output_type": "stream",
     "text": [
      " 79%|███████▊  | 3000/3810 [02:22<00:37, 21.83it/s]"
     ]
    },
    {
     "name": "stdout",
     "output_type": "stream",
     "text": [
      "{'loss': 0.0423, 'grad_norm': 1.807619333267212, 'learning_rate': 1.2235649546827795e-05, 'epoch': 3.94}\n"
     ]
    },
    {
     "name": "stderr",
     "output_type": "stream",
     "text": [
      " 81%|████████▏ | 3102/3810 [02:27<00:33, 21.37it/s]"
     ]
    },
    {
     "name": "stdout",
     "output_type": "stream",
     "text": [
      "{'loss': 0.0553, 'grad_norm': 0.004785178694874048, 'learning_rate': 1.0725075528700906e-05, 'epoch': 4.07}\n"
     ]
    },
    {
     "name": "stderr",
     "output_type": "stream",
     "text": [
      " 84%|████████▍ | 3204/3810 [02:32<00:28, 21.52it/s]"
     ]
    },
    {
     "name": "stdout",
     "output_type": "stream",
     "text": [
      "{'loss': 0.0384, 'grad_norm': 0.0042624385096132755, 'learning_rate': 9.214501510574018e-06, 'epoch': 4.2}\n"
     ]
    },
    {
     "name": "stderr",
     "output_type": "stream",
     "text": [
      " 87%|████████▋ | 3303/3810 [02:36<00:23, 21.60it/s]"
     ]
    },
    {
     "name": "stdout",
     "output_type": "stream",
     "text": [
      "{'loss': 0.033, 'grad_norm': 1.7657631635665894, 'learning_rate': 7.70392749244713e-06, 'epoch': 4.33}\n"
     ]
    },
    {
     "name": "stderr",
     "output_type": "stream",
     "text": [
      " 89%|████████▉ | 3405/3810 [02:41<00:18, 22.01it/s]"
     ]
    },
    {
     "name": "stdout",
     "output_type": "stream",
     "text": [
      "{'loss': 0.0514, 'grad_norm': 0.0046674711629748344, 'learning_rate': 6.193353474320241e-06, 'epoch': 4.46}\n"
     ]
    },
    {
     "name": "stderr",
     "output_type": "stream",
     "text": [
      " 92%|█████████▏| 3500/3810 [02:45<00:14, 21.96it/s]"
     ]
    },
    {
     "name": "stdout",
     "output_type": "stream",
     "text": [
      "{'loss': 0.0303, 'grad_norm': 0.003218071535229683, 'learning_rate': 4.682779456193353e-06, 'epoch': 4.59}\n"
     ]
    },
    {
     "name": "stderr",
     "output_type": "stream",
     "text": [
      " 95%|█████████▍| 3603/3810 [02:50<00:09, 21.83it/s]"
     ]
    },
    {
     "name": "stdout",
     "output_type": "stream",
     "text": [
      "{'loss': 0.0267, 'grad_norm': 0.003060894086956978, 'learning_rate': 3.1722054380664653e-06, 'epoch': 4.72}\n"
     ]
    },
    {
     "name": "stderr",
     "output_type": "stream",
     "text": [
      " 97%|█████████▋| 3705/3810 [02:55<00:04, 21.88it/s]"
     ]
    },
    {
     "name": "stdout",
     "output_type": "stream",
     "text": [
      "{'loss': 0.0398, 'grad_norm': 119.60929107666016, 'learning_rate': 1.661631419939577e-06, 'epoch': 4.86}\n"
     ]
    },
    {
     "name": "stderr",
     "output_type": "stream",
     "text": [
      "100%|█████████▉| 3804/3810 [03:00<00:00, 22.03it/s]"
     ]
    },
    {
     "name": "stdout",
     "output_type": "stream",
     "text": [
      "{'loss': 0.0423, 'grad_norm': 1.1280299425125122, 'learning_rate': 1.5105740181268883e-07, 'epoch': 4.99}\n"
     ]
    },
    {
     "name": "stderr",
     "output_type": "stream",
     "text": [
      "100%|██████████| 3810/3810 [03:00<00:00, 21.13it/s]"
     ]
    },
    {
     "name": "stdout",
     "output_type": "stream",
     "text": [
      "{'train_runtime': 180.3328, 'train_samples_per_second': 168.854, 'train_steps_per_second': 21.128, 'train_loss': 0.08087695457647479, 'epoch': 5.0}\n"
     ]
    },
    {
     "name": "stderr",
     "output_type": "stream",
     "text": [
      "\n"
     ]
    },
    {
     "data": {
      "text/plain": [
       "TrainOutput(global_step=3810, training_loss=0.08087695457647479, metrics={'train_runtime': 180.3328, 'train_samples_per_second': 168.854, 'train_steps_per_second': 21.128, 'train_loss': 0.08087695457647479, 'epoch': 5.0})"
      ]
     },
     "execution_count": 37,
     "metadata": {},
     "output_type": "execute_result"
    }
   ],
   "source": [
    "## batch \n",
    "from transformers import Trainer, TrainingArguments\n",
    "training_args = TrainingArguments(output_dir = \"test_trainer\",\n",
    "                                  per_device_train_batch_size=8,\n",
    "                                  per_device_eval_batch_size=8,\n",
    "                                  num_train_epochs=5,\n",
    "                                  warmup_steps=500,\n",
    "                                  weight_decay=0.01,\n",
    "                                  logging_dir=\"./logs\",\n",
    "                                  logging_steps=100,)\n",
    "\n",
    "\n",
    "trainer= Trainer(model=model,\n",
    "                  args=training_args,\n",
    "                  train_dataset=train_dataset,\n",
    "                  eval_dataset=test_dataset)\n",
    "\n",
    "trainer.train()"
   ]
  },
  {
   "cell_type": "markdown",
   "metadata": {},
   "source": [
    "```\n",
    "training_args = TrainingArguments(output_dir = \"test_trainer\",\n",
    "                                  per_device_train_batch_size=8,\n",
    "                                  per_device_eval_batch_size=8,\n",
    "                                  num_train_epochs=5,\n",
    "                                  logging_dir=\"./logs\",\n",
    "                                  logging_steps=10,)\n",
    "```\n",
    "\n",
    "这个loggingfrequency会返回很多epoch"
   ]
  },
  {
   "cell_type": "code",
   "execution_count": 62,
   "metadata": {},
   "outputs": [
    {
     "name": "stderr",
     "output_type": "stream",
     "text": [
      "d:\\PYTHON\\ENV\\labsession\\lib\\site-packages\\accelerate\\accelerator.py:432: FutureWarning: Passing the following arguments to `Accelerator` is deprecated and will be removed in version 1.0 of Accelerate: dict_keys(['dispatch_batches', 'split_batches', 'even_batches', 'use_seedable_sampler']). Please pass an `accelerate.DataLoaderConfiguration` instead: \n",
      "dataloader_config = DataLoaderConfiguration(dispatch_batches=None, split_batches=False, even_batches=True, use_seedable_sampler=True)\n",
      "  warnings.warn(\n",
      "  0%|          | 0/2286 [06:09<?, ?it/s]\n",
      "  0%|          | 0/2286 [04:48<?, ?it/s]\n",
      " 22%|██▏       | 500/2286 [00:22<01:19, 22.58it/s]"
     ]
    },
    {
     "name": "stdout",
     "output_type": "stream",
     "text": [
      "{'loss': 0.4635, 'grad_norm': 4.250698089599609, 'learning_rate': 3.906386701662293e-05, 'epoch': 0.66}\n"
     ]
    },
    {
     "name": "stderr",
     "output_type": "stream",
     "text": [
      " 44%|████▎     | 1000/2286 [00:45<00:57, 22.36it/s]"
     ]
    },
    {
     "name": "stdout",
     "output_type": "stream",
     "text": [
      "{'loss': 0.3799, 'grad_norm': 0.9546465277671814, 'learning_rate': 2.8127734033245845e-05, 'epoch': 1.31}\n"
     ]
    },
    {
     "name": "stderr",
     "output_type": "stream",
     "text": [
      " 66%|██████▌   | 1500/2286 [01:08<00:34, 23.11it/s]"
     ]
    },
    {
     "name": "stdout",
     "output_type": "stream",
     "text": [
      "{'loss': 0.3355, 'grad_norm': 10.752007484436035, 'learning_rate': 1.7191601049868766e-05, 'epoch': 1.97}\n"
     ]
    },
    {
     "name": "stderr",
     "output_type": "stream",
     "text": [
      " 87%|████████▋ | 2000/2286 [01:31<00:12, 22.56it/s]"
     ]
    },
    {
     "name": "stdout",
     "output_type": "stream",
     "text": [
      "{'loss': 0.2128, 'grad_norm': 12.658132553100586, 'learning_rate': 6.255468066491689e-06, 'epoch': 2.62}\n"
     ]
    },
    {
     "name": "stderr",
     "output_type": "stream",
     "text": [
      "100%|██████████| 2286/2286 [01:44<00:00, 21.89it/s]"
     ]
    },
    {
     "name": "stdout",
     "output_type": "stream",
     "text": [
      "{'train_runtime': 104.4352, 'train_samples_per_second': 174.941, 'train_steps_per_second': 21.889, 'train_loss': 0.33185428208879286, 'epoch': 3.0}\n"
     ]
    },
    {
     "name": "stderr",
     "output_type": "stream",
     "text": [
      "\n"
     ]
    },
    {
     "data": {
      "text/plain": [
       "TrainOutput(global_step=2286, training_loss=0.33185428208879286, metrics={'train_runtime': 104.4352, 'train_samples_per_second': 174.941, 'train_steps_per_second': 21.889, 'train_loss': 0.33185428208879286, 'epoch': 3.0})"
      ]
     },
     "execution_count": 62,
     "metadata": {},
     "output_type": "execute_result"
    }
   ],
   "source": [
    "# from transformers import Trainer, TrainingArguments\n",
    "# training_args = TrainingArguments(\"test_trainer\")\n",
    "\n",
    "\n",
    "# trainer= Trainer(model=model,\n",
    "#                   args=training_args,\n",
    "#                   train_dataset=train_dataset,\n",
    "#                   eval_dataset=test_dataset)\n",
    "\n",
    "# trainer.train()"
   ]
  },
  {
   "cell_type": "code",
   "execution_count": 38,
   "metadata": {},
   "outputs": [],
   "source": [
    "# evaluate the model\n",
    "\n",
    "\n",
    "\n",
    "# test the model\n",
    "# load the test data\n",
    "X_val = test_pd['text']\n",
    "\n",
    "X_val_tokenized = tokenizer(X_val.to_list(), padding=True, truncation=True, return_tensors=\"pt\",max_length = 200)\n",
    "\n",
    "\n",
    "# create the dataset\n",
    "\n",
    "\n",
    "# make the prediction\n",
    "with torch.no_grad():\n",
    "    X_val_encoded = model(**X_val_tokenized.to(\"cuda\"))\n",
    "\n",
    "# write the prediction to a csv file\n",
    "# get the prediction\n",
    "y_val = torch.argmax(X_val_encoded.logits, dim=1).cpu().numpy()\n",
    "\n",
    "\n"
   ]
  },
  {
   "cell_type": "code",
   "execution_count": 43,
   "metadata": {},
   "outputs": [
    {
     "name": "stdout",
     "output_type": "stream",
     "text": [
      "Accuracy: 0.8994790070487282\n",
      "F1 Score: 0.8681672025723473\n"
     ]
    }
   ],
   "source": [
    "# create the submission file\n",
    "from sklearn.metrics import f1_score\n",
    "submission = pd.DataFrame()\n",
    "submission['id'] = test_pd['id']\n",
    "submission['target'] = y_val\n",
    "submission.to_csv(\"submission.csv\", index=False)\n",
    "\n",
    "# \n",
    "with open(\"submission_example.csv\", \"r\") as f:\n",
    "    # check the accuracy\n",
    "    submission_example = pd.read_csv(f)\n",
    "\n",
    "    # check the accuracy\n",
    "accuracy = (submission_example['target'] == submission['target']).mean()\n",
    "print(f\"Accuracy: {accuracy}\")\n",
    "# check the f1 score\n",
    "f1 = f1_score(submission_example['target'], submission['target'])\n",
    "print(f\"F1 Score: {f1}\")\n",
    "\n",
    "\n"
   ]
  },
  {
   "cell_type": "code",
   "execution_count": null,
   "metadata": {},
   "outputs": [],
   "source": []
  },
  {
   "cell_type": "markdown",
   "metadata": {},
   "source": [
    "## Bert uncased normal model "
   ]
  },
  {
   "cell_type": "code",
   "execution_count": 44,
   "metadata": {},
   "outputs": [
    {
     "name": "stderr",
     "output_type": "stream",
     "text": [
      "d:\\PYTHON\\ENV\\labsession\\lib\\site-packages\\huggingface_hub\\file_download.py:149: UserWarning: `huggingface_hub` cache-system uses symlinks by default to efficiently store duplicated files but your machine does not support them in D:\\PYTHON\\cacheTransformers\\hub\\models--bert-base-uncased. Caching files will still work but in a degraded version that might require more space on your disk. This warning can be disabled by setting the `HF_HUB_DISABLE_SYMLINKS_WARNING` environment variable. For more details, see https://huggingface.co/docs/huggingface_hub/how-to-cache#limitations.\n",
      "To support symlinks on Windows, you either need to activate Developer Mode or to run Python as an administrator. In order to see activate developer mode, see this article: https://docs.microsoft.com/en-us/windows/apps/get-started/enable-your-device-for-development\n",
      "  warnings.warn(message)\n",
      "Some weights of BertForSequenceClassification were not initialized from the model checkpoint at bert-base-uncased and are newly initialized: ['classifier.bias', 'classifier.weight']\n",
      "You should probably TRAIN this model on a down-stream task to be able to use it for predictions and inference.\n"
     ]
    }
   ],
   "source": [
    "## let's try another bert \n",
    "tokenizer_new = AutoTokenizer.from_pretrained(\"bert-base-uncased\")\n",
    "model_new = AutoModelForSequenceClassification.from_pretrained(\"bert-base-uncased\").to(\"cuda\")\n"
   ]
  },
  {
   "cell_type": "code",
   "execution_count": 45,
   "metadata": {},
   "outputs": [],
   "source": [
    "# tokenize_x \n",
    "X_train_tokenized_new = tokenizer_new(X_train.to_list(), padding=True, truncation=True, return_tensors=\"pt\",max_length = 200)\n",
    "X_test_tokenized_new = tokenizer_new(X_test.to_list(), padding=True, truncation=True, return_tensors=\"pt\",max_length = 200)\n",
    "y_train = torch.tensor(y_train.tolist())  # Already on CPU by default\n",
    "y_test = torch.tensor(y_test.tolist())    # Already on CPU by default\n"
   ]
  },
  {
   "cell_type": "code",
   "execution_count": 50,
   "metadata": {},
   "outputs": [
    {
     "name": "stderr",
     "output_type": "stream",
     "text": [
      "d:\\PYTHON\\ENV\\labsession\\lib\\site-packages\\accelerate\\accelerator.py:432: FutureWarning: Passing the following arguments to `Accelerator` is deprecated and will be removed in version 1.0 of Accelerate: dict_keys(['dispatch_batches', 'split_batches', 'even_batches', 'use_seedable_sampler']). Please pass an `accelerate.DataLoaderConfiguration` instead: \n",
      "dataloader_config = DataLoaderConfiguration(dispatch_batches=None, split_batches=False, even_batches=True, use_seedable_sampler=True)\n",
      "  warnings.warn(\n",
      " 13%|█▎        | 500/3810 [00:58<06:28,  8.53it/s]Checkpoint destination directory test_trainer_newbert\\checkpoint-500 already exists and is non-empty. Saving will proceed but saved results may be invalid.\n",
      " 26%|██▌       | 1000/3810 [01:56<05:27,  8.58it/s]Checkpoint destination directory test_trainer_newbert\\checkpoint-1000 already exists and is non-empty. Saving will proceed but saved results may be invalid.\n",
      " 39%|███▉      | 1500/3810 [02:55<04:19,  8.92it/s]Checkpoint destination directory test_trainer_newbert\\checkpoint-1500 already exists and is non-empty. Saving will proceed but saved results may be invalid.\n",
      " 52%|█████▏    | 2000/3810 [03:52<03:28,  8.69it/s]Checkpoint destination directory test_trainer_newbert\\checkpoint-2000 already exists and is non-empty. Saving will proceed but saved results may be invalid.\n",
      " 66%|██████▌   | 2500/3810 [04:50<02:31,  8.65it/s]Checkpoint destination directory test_trainer_newbert\\checkpoint-2500 already exists and is non-empty. Saving will proceed but saved results may be invalid.\n",
      " 79%|███████▊  | 3000/3810 [05:49<01:34,  8.53it/s]Checkpoint destination directory test_trainer_newbert\\checkpoint-3000 already exists and is non-empty. Saving will proceed but saved results may be invalid.\n",
      " 92%|█████████▏| 3500/3810 [06:49<00:36,  8.44it/s]Checkpoint destination directory test_trainer_newbert\\checkpoint-3500 already exists and is non-empty. Saving will proceed but saved results may be invalid.\n",
      "100%|██████████| 3810/3810 [07:26<00:00,  8.53it/s]"
     ]
    },
    {
     "name": "stdout",
     "output_type": "stream",
     "text": [
      "{'train_runtime': 446.6418, 'train_samples_per_second': 136.351, 'train_steps_per_second': 8.53, 'train_loss': 0.06501716753942134, 'epoch': 10.0}\n"
     ]
    },
    {
     "name": "stderr",
     "output_type": "stream",
     "text": [
      "\n"
     ]
    },
    {
     "data": {
      "text/plain": [
       "TrainOutput(global_step=3810, training_loss=0.06501716753942134, metrics={'train_runtime': 446.6418, 'train_samples_per_second': 136.351, 'train_steps_per_second': 8.53, 'train_loss': 0.06501716753942134, 'epoch': 10.0})"
      ]
     },
     "execution_count": 50,
     "metadata": {},
     "output_type": "execute_result"
    }
   ],
   "source": [
    "# create the dataset\n",
    "train_dataset_new = CustomDataset(X_train_tokenized_new, y_train)\n",
    "test_dataset_new = CustomDataset(X_test_tokenized_new, y_test)\n",
    "\n",
    "# Specify the path to the checkpoint folder\n",
    "checkpoint_folder = \"./test_trainer_newbert\"\n",
    "# ## batch \n",
    "from transformers import Trainer, TrainingArguments\n",
    "training_args = TrainingArguments(output_dir = \"test_trainer_newbert\",\n",
    "                                  per_device_train_batch_size=16,\n",
    "                                  per_device_eval_batch_size=16,\n",
    "                                  num_train_epochs=10,\n",
    "                                  warmup_steps=500,\n",
    "                                  weight_decay=0.01,\n",
    "                                  logging_dir=\"./logs_new\",\n",
    "                                  logging_steps=5000,)\n",
    "\n",
    "\n",
    "trainer= Trainer(model=model_new,\n",
    "                  args=training_args,\n",
    "                  train_dataset=train_dataset_new,\n",
    "                  eval_dataset=test_dataset_new)\n",
    "\n",
    "trainer.train()"
   ]
  },
  {
   "cell_type": "code",
   "execution_count": 51,
   "metadata": {},
   "outputs": [],
   "source": [
    "# test the model\n",
    "# load the test data\n",
    "X_val_new = test_pd['text']# evaluate the model\n",
    "\n",
    "\n",
    "\n",
    "# test the model\n",
    "# load the test data\n",
    "X_val_new = test_pd['text']\n",
    "\n",
    "\n",
    "X_val_tokenized_new = tokenizer_new(X_val_new.to_list(), padding=True, truncation=True, return_tensors=\"pt\",max_length = 200)\n",
    "\n",
    "\n",
    "# create the dataset\n",
    "\n",
    "\n",
    "# make the prediction\n",
    "with torch.no_grad():\n",
    "    X_val_encoded_new = model_new(**X_val_tokenized_new.to(\"cuda\"))\n",
    "\n",
    "# write the prediction to a csv file\n",
    "# get the prediction\n",
    "y_val_new = torch.argmax(X_val_encoded_new.logits, dim=1).cpu().numpy()\n",
    "\n",
    "\n",
    "\n"
   ]
  },
  {
   "cell_type": "code",
   "execution_count": 56,
   "metadata": {},
   "outputs": [
    {
     "name": "stdout",
     "output_type": "stream",
     "text": [
      "Accuracy: 0.8970272755133313\n",
      "F1 Score: 0.8615004122011541\n"
     ]
    }
   ],
   "source": [
    "# create the submission file\n",
    "from sklearn.metrics import f1_score\n",
    "submission_bert = pd.DataFrame()\n",
    "submission_bert['id'] = test_pd['id']\n",
    "submission_bert['target'] = y_val_new\n",
    "submission_bert.to_csv(\"submission_bert.csv\", index=False)\n",
    "\n",
    "# \n",
    "with open(\"submission_example.csv\", \"r\") as f:\n",
    "    # check the accuracy\n",
    "    submission_example = pd.read_csv(f)\n",
    "\n",
    "    # check the accuracy\n",
    "accuracy = (submission_example['target'] == submission_bert['target']).mean()\n",
    "print(f\"Accuracy: {accuracy}\")\n",
    "# check the f1 score\n",
    "f1 = f1_score(submission_example['target'], submission_bert['target'])\n",
    "print(f\"F1 Score: {f1}\")\n"
   ]
  },
  {
   "cell_type": "markdown",
   "metadata": {},
   "source": [
    "## Dropout method"
   ]
  },
  {
   "cell_type": "code",
   "execution_count": 63,
   "metadata": {},
   "outputs": [
    {
     "name": "stderr",
     "output_type": "stream",
     "text": [
      "Some weights of DistilBertForSequenceClassification were not initialized from the model checkpoint at distilbert-base-uncased and are newly initialized: ['classifier.bias', 'classifier.weight', 'pre_classifier.bias', 'pre_classifier.weight']\n",
      "You should probably TRAIN this model on a down-stream task to be able to use it for predictions and inference.\n"
     ]
    }
   ],
   "source": [
    "from transformers import DistilBertForSequenceClassification, DistilBertConfig, AutoModelForSequenceClassification\n",
    "import torch\n",
    "from torch import nn\n",
    "\n",
    "class CustomDistilBertModel(nn.Module):\n",
    "    def __init__(self, num_labels=2):\n",
    "        super(CustomDistilBertModel, self).__init__()\n",
    "        config = DistilBertConfig.from_pretrained('distilbert-base-uncased', \n",
    "                                                  dropout=0.3, \n",
    "                                                  attention_dropout=0.2,\n",
    "                                                  num_labels=num_labels) # Ensure num_labels is set in the config\n",
    "        self.distilbert = DistilBertForSequenceClassification.from_pretrained('distilbert-base-uncased', config=config)\n",
    "        self.dropout = nn.Dropout(0.5)  # Additional dropout if needed\n",
    "        # No need to add another classifier on top, DistilBertForSequenceClassification already includes one\n",
    "        # If you want to replace the classifier, ensure it matches the output feature size of DistilBERT (768)\n",
    "\n",
    "    def forward(self, input_ids, attention_mask=None):\n",
    "        # DistilBertForSequenceClassification returns a sequence of hidden states as the first element of the output\n",
    "        outputs = self.distilbert(input_ids=input_ids, attention_mask=attention_mask)\n",
    "        \n",
    "        # For DistilBertForSequenceClassification, the logits are what you're interested in\n",
    "        # which are located in `outputs.logits`\n",
    "        logits = outputs.logits\n",
    "        \n",
    "        # Apply additional dropout to the logits if desired\n",
    "        logits = self.dropout(logits)\n",
    "        \n",
    "        return logits\n",
    "\n",
    "# Usage\n",
    "model_dp = CustomDistilBertModel(num_labels=2).to(\"cuda\")\n"
   ]
  },
  {
   "cell_type": "code",
   "execution_count": 65,
   "metadata": {},
   "outputs": [
    {
     "name": "stderr",
     "output_type": "stream",
     "text": [
      "Some weights of DistilBertForSequenceClassification were not initialized from the model checkpoint at distilbert-base-uncased and are newly initialized: ['classifier.bias', 'classifier.weight', 'pre_classifier.bias', 'pre_classifier.weight']\n",
      "You should probably TRAIN this model on a down-stream task to be able to use it for predictions and inference.\n"
     ]
    }
   ],
   "source": [
    "from transformers import DistilBertForSequenceClassification, DistilBertConfig, AutoModelForSequenceClassification, Trainer, TrainingArguments\n",
    "import torch\n",
    "from torch import nn\n",
    "\n",
    "class CustomDistilBertModel(nn.Module):\n",
    "    def __init__(self, num_labels=2):\n",
    "        super().__init__()\n",
    "        self.num_labels = num_labels\n",
    "        config = DistilBertConfig.from_pretrained('distilbert-base-uncased', \n",
    "                                                  dropout=0.3, \n",
    "                                                  attention_dropout=0.2,\n",
    "                                                  num_labels=num_labels)\n",
    "        self.distilbert = DistilBertForSequenceClassification.from_pretrained('distilbert-base-uncased', config=config)\n",
    "\n",
    "    def forward(self, input_ids, attention_mask=None, labels=None):\n",
    "        outputs = self.distilbert(input_ids=input_ids, attention_mask=attention_mask, labels=labels)\n",
    "        \n",
    "        return outputs  # Directly return the output from DistilBertForSequenceClassification\n",
    "\n",
    "# Usage\n",
    "model_dp = CustomDistilBertModel(num_labels=2).to(\"cuda\")"
   ]
  },
  {
   "cell_type": "code",
   "execution_count": 66,
   "metadata": {},
   "outputs": [
    {
     "name": "stderr",
     "output_type": "stream",
     "text": [
      "  0%|          | 0/3810 [02:58<?, ?it/s]\n",
      "                                                   \n",
      "100%|██████████| 3810/3810 [03:59<00:00, 15.88it/s]"
     ]
    },
    {
     "name": "stdout",
     "output_type": "stream",
     "text": [
      "{'train_runtime': 239.93, 'train_samples_per_second': 253.824, 'train_steps_per_second': 15.88, 'train_loss': 0.21832047910515093, 'epoch': 10.0}\n"
     ]
    },
    {
     "name": "stderr",
     "output_type": "stream",
     "text": [
      "\n"
     ]
    },
    {
     "data": {
      "text/plain": [
       "TrainOutput(global_step=3810, training_loss=0.21832047910515093, metrics={'train_runtime': 239.93, 'train_samples_per_second': 253.824, 'train_steps_per_second': 15.88, 'train_loss': 0.21832047910515093, 'epoch': 10.0})"
      ]
     },
     "execution_count": 66,
     "metadata": {},
     "output_type": "execute_result"
    }
   ],
   "source": [
    "# process the data \n",
    "X_train_tokenized = model\n",
    "# start the training\n",
    "# Specify the path to the checkpoint folder\n",
    "checkpoint_folder = \"./test_trainer_dp\"\n",
    "\n",
    "# ## batch \n",
    "from transformers import Trainer, TrainingArguments\n",
    "training_args = TrainingArguments(output_dir = \"test_trainer_dp\",\n",
    "                                  per_device_train_batch_size=16,\n",
    "                                  per_device_eval_batch_size=16,\n",
    "                                  num_train_epochs=10,\n",
    "                                  warmup_steps=500,\n",
    "                                  weight_decay=0.01,\n",
    "                                  logging_dir=\"./logs_new\",\n",
    "                                  logging_steps=5000,)\n",
    "\n",
    "\n",
    "\n",
    "trainer= Trainer(model=model_dp,\n",
    "                  args=training_args,\n",
    "                  train_dataset=train_dataset,\n",
    "                  eval_dataset=test_dataset)\n",
    "\n",
    "trainer.train()\n"
   ]
  },
  {
   "cell_type": "code",
   "execution_count": 67,
   "metadata": {},
   "outputs": [],
   "source": [
    "# test the model\n",
    "# test the model\n",
    "# load the test data\n",
    "X_val_dp= test_pd['text']# evaluate the model\n",
    "\n",
    "\n",
    "\n",
    "\n",
    "\n",
    "\n",
    "X_val_tokenized_dp = tokenizer(X_val_dp.to_list(), padding=True, truncation=True, return_tensors=\"pt\",max_length = 200)\n",
    "\n",
    "\n",
    "# create the dataset\n",
    "\n",
    "\n",
    "# make the prediction\n",
    "with torch.no_grad():\n",
    "    X_val_encoded_dp = model_dp(**X_val_tokenized_dp.to(\"cuda\"))\n",
    "\n",
    "# write the prediction to a csv file\n",
    "# get the prediction\n",
    "y_val_dp = torch.argmax(X_val_encoded_dp.logits, dim=1).cpu().numpy()\n",
    "\n",
    "\n",
    "\n"
   ]
  },
  {
   "cell_type": "code",
   "execution_count": 68,
   "metadata": {},
   "outputs": [
    {
     "name": "stdout",
     "output_type": "stream",
     "text": [
      "Accuracy: 0.8945755439779344\n",
      "F1 Score: 0.8639240506329114\n"
     ]
    }
   ],
   "source": [
    "# create the submission file\n",
    "from sklearn.metrics import f1_score\n",
    "submission_bert_dp = pd.DataFrame()\n",
    "submission_bert_dp['id'] = test_pd['id']\n",
    "submission_bert_dp['target'] = y_val_dp\n",
    "submission_bert_dp.to_csv(\"submission_bert_dp.csv\", index=False)\n",
    "\n",
    "# \n",
    "with open(\"submission_example.csv\", \"r\") as f:\n",
    "    # check the accuracy\n",
    "    submission_example = pd.read_csv(f)\n",
    "\n",
    "    # check the accuracy\n",
    "accuracy = (submission_example['target'] == submission_bert_dp['target']).mean()\n",
    "print(f\"Accuracy: {accuracy}\")\n",
    "# check the f1 score\n",
    "f1 = f1_score(submission_example['target'], submission_bert_dp['target'])\n",
    "print(f\"F1 Score: {f1}\")\n"
   ]
  }
 ],
 "metadata": {
  "kernelspec": {
   "display_name": "labsession",
   "language": "python",
   "name": "python3"
  },
  "language_info": {
   "codemirror_mode": {
    "name": "ipython",
    "version": 3
   },
   "file_extension": ".py",
   "mimetype": "text/x-python",
   "name": "python",
   "nbconvert_exporter": "python",
   "pygments_lexer": "ipython3",
   "version": "3.10.10"
  }
 },
 "nbformat": 4,
 "nbformat_minor": 2
}
